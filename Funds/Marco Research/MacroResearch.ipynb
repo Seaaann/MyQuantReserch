{
 "cells": [
  {
   "cell_type": "code",
   "execution_count": 2,
   "metadata": {},
   "outputs": [
    {
     "ename": "ModuleNotFoundError",
     "evalue": "No module named 'akshare'",
     "output_type": "error",
     "traceback": [
      "\u001b[0;31m---------------------------------------------------------------------------\u001b[0m",
      "\u001b[0;31mModuleNotFoundError\u001b[0m                       Traceback (most recent call last)",
      "\u001b[0;32m<ipython-input-2-20c9356fd7bf>\u001b[0m in \u001b[0;36m<module>\u001b[0;34m\u001b[0m\n\u001b[1;32m      5\u001b[0m \u001b[0;32mfrom\u001b[0m \u001b[0mdatetime\u001b[0m \u001b[0;32mimport\u001b[0m \u001b[0mdate\u001b[0m\u001b[0;34m,\u001b[0m \u001b[0mtimedelta\u001b[0m\u001b[0;34m\u001b[0m\u001b[0;34m\u001b[0m\u001b[0m\n\u001b[1;32m      6\u001b[0m \u001b[0;34m\u001b[0m\u001b[0m\n\u001b[0;32m----> 7\u001b[0;31m \u001b[0;32mfrom\u001b[0m \u001b[0mAIP\u001b[0m \u001b[0;32mimport\u001b[0m \u001b[0;34m*\u001b[0m\u001b[0;34m\u001b[0m\u001b[0;34m\u001b[0m\u001b[0m\n\u001b[0m",
      "\u001b[0;32m~/Desktop/Github/MyQuantReserch/Funds/Marco Research/AIP.py\u001b[0m in \u001b[0;36m<module>\u001b[0;34m\u001b[0m\n\u001b[0;32m----> 1\u001b[0;31m \u001b[0;32mfrom\u001b[0m \u001b[0mfund_tools\u001b[0m \u001b[0;32mimport\u001b[0m \u001b[0;34m*\u001b[0m\u001b[0;34m\u001b[0m\u001b[0;34m\u001b[0m\u001b[0m\n\u001b[0m\u001b[1;32m      2\u001b[0m \u001b[0;32mimport\u001b[0m \u001b[0mrandom\u001b[0m\u001b[0;34m\u001b[0m\u001b[0;34m\u001b[0m\u001b[0m\n\u001b[1;32m      3\u001b[0m \u001b[0;34m\u001b[0m\u001b[0m\n\u001b[1;32m      4\u001b[0m \u001b[0;34m\u001b[0m\u001b[0m\n\u001b[1;32m      5\u001b[0m def AIP_Weekly(\n",
      "\u001b[0;32m~/Desktop/Github/MyQuantReserch/Funds/Marco Research/fund_tools.py\u001b[0m in \u001b[0;36m<module>\u001b[0;34m\u001b[0m\n\u001b[1;32m      1\u001b[0m \u001b[0;32mimport\u001b[0m \u001b[0mnumpy\u001b[0m \u001b[0;32mas\u001b[0m \u001b[0mnp\u001b[0m\u001b[0;34m\u001b[0m\u001b[0;34m\u001b[0m\u001b[0m\n\u001b[1;32m      2\u001b[0m \u001b[0;32mimport\u001b[0m \u001b[0mpandas\u001b[0m \u001b[0;32mas\u001b[0m \u001b[0mpd\u001b[0m\u001b[0;34m\u001b[0m\u001b[0;34m\u001b[0m\u001b[0m\n\u001b[0;32m----> 3\u001b[0;31m \u001b[0;32mimport\u001b[0m \u001b[0makshare\u001b[0m \u001b[0;32mas\u001b[0m \u001b[0mak\u001b[0m\u001b[0;34m\u001b[0m\u001b[0;34m\u001b[0m\u001b[0m\n\u001b[0m\u001b[1;32m      4\u001b[0m \u001b[0;32mimport\u001b[0m \u001b[0mmatplotlib\u001b[0m\u001b[0;34m.\u001b[0m\u001b[0mpyplot\u001b[0m \u001b[0;32mas\u001b[0m \u001b[0mplt\u001b[0m\u001b[0;34m\u001b[0m\u001b[0;34m\u001b[0m\u001b[0m\n\u001b[1;32m      5\u001b[0m \u001b[0;32mimport\u001b[0m \u001b[0mmatplotlib\u001b[0m\u001b[0;34m\u001b[0m\u001b[0;34m\u001b[0m\u001b[0m\n",
      "\u001b[0;31mModuleNotFoundError\u001b[0m: No module named 'akshare'"
     ]
    }
   ],
   "source": [
    "import numpy as np\n",
    "import pandas as pd\n",
    "import matplotlib.pyplot as plt\n",
    "import matplotlib.cm as cm\n",
    "from datetime import date, timedelta\n",
    "\n",
    "from AIP import *"
   ]
  },
  {
   "cell_type": "code",
   "execution_count": 19,
   "metadata": {},
   "outputs": [
    {
     "data": {
      "text/html": [
       "<div>\n",
       "<style scoped>\n",
       "    .dataframe tbody tr th:only-of-type {\n",
       "        vertical-align: middle;\n",
       "    }\n",
       "\n",
       "    .dataframe tbody tr th {\n",
       "        vertical-align: top;\n",
       "    }\n",
       "\n",
       "    .dataframe thead th {\n",
       "        text-align: right;\n",
       "    }\n",
       "</style>\n",
       "<table border=\"1\" class=\"dataframe\">\n",
       "  <thead>\n",
       "    <tr style=\"text-align: right;\">\n",
       "      <th></th>\n",
       "      <th>股息率市值加权</th>\n",
       "      <th>一年期收益率</th>\n",
       "      <th>三年期收益率</th>\n",
       "      <th>五年期收益率</th>\n",
       "      <th>十年期收益率</th>\n",
       "      <th>沪深300股息溢价</th>\n",
       "    </tr>\n",
       "    <tr>\n",
       "      <th>时间</th>\n",
       "      <th></th>\n",
       "      <th></th>\n",
       "      <th></th>\n",
       "      <th></th>\n",
       "      <th></th>\n",
       "      <th></th>\n",
       "    </tr>\n",
       "  </thead>\n",
       "  <tbody>\n",
       "    <tr>\n",
       "      <th>2012-01-30</th>\n",
       "      <td>0.0238</td>\n",
       "      <td>0.027757</td>\n",
       "      <td>0.028858</td>\n",
       "      <td>0.030561</td>\n",
       "      <td>0.034005</td>\n",
       "      <td>-0.010205</td>\n",
       "    </tr>\n",
       "    <tr>\n",
       "      <th>2012-01-31</th>\n",
       "      <td>0.0237</td>\n",
       "      <td>0.027658</td>\n",
       "      <td>0.028893</td>\n",
       "      <td>0.030502</td>\n",
       "      <td>0.034064</td>\n",
       "      <td>-0.010364</td>\n",
       "    </tr>\n",
       "    <tr>\n",
       "      <th>2012-02-01</th>\n",
       "      <td>0.0240</td>\n",
       "      <td>0.027829</td>\n",
       "      <td>0.029075</td>\n",
       "      <td>0.031131</td>\n",
       "      <td>0.034318</td>\n",
       "      <td>-0.010318</td>\n",
       "    </tr>\n",
       "    <tr>\n",
       "      <th>2012-02-02</th>\n",
       "      <td>0.0235</td>\n",
       "      <td>0.027733</td>\n",
       "      <td>0.029059</td>\n",
       "      <td>0.031073</td>\n",
       "      <td>0.034410</td>\n",
       "      <td>-0.010910</td>\n",
       "    </tr>\n",
       "    <tr>\n",
       "      <th>2012-02-03</th>\n",
       "      <td>0.0234</td>\n",
       "      <td>0.027803</td>\n",
       "      <td>0.029058</td>\n",
       "      <td>0.031113</td>\n",
       "      <td>0.034360</td>\n",
       "      <td>-0.010960</td>\n",
       "    </tr>\n",
       "    <tr>\n",
       "      <th>...</th>\n",
       "      <td>...</td>\n",
       "      <td>...</td>\n",
       "      <td>...</td>\n",
       "      <td>...</td>\n",
       "      <td>...</td>\n",
       "      <td>...</td>\n",
       "    </tr>\n",
       "    <tr>\n",
       "      <th>2022-01-20</th>\n",
       "      <td>0.0215</td>\n",
       "      <td>0.020204</td>\n",
       "      <td>0.023038</td>\n",
       "      <td>0.024745</td>\n",
       "      <td>0.027271</td>\n",
       "      <td>-0.005771</td>\n",
       "    </tr>\n",
       "    <tr>\n",
       "      <th>2022-01-21</th>\n",
       "      <td>0.0217</td>\n",
       "      <td>0.020018</td>\n",
       "      <td>0.022614</td>\n",
       "      <td>0.024295</td>\n",
       "      <td>0.027100</td>\n",
       "      <td>-0.005400</td>\n",
       "    </tr>\n",
       "    <tr>\n",
       "      <th>2022-01-24</th>\n",
       "      <td>0.0216</td>\n",
       "      <td>0.019502</td>\n",
       "      <td>0.022188</td>\n",
       "      <td>0.023527</td>\n",
       "      <td>0.026751</td>\n",
       "      <td>-0.005151</td>\n",
       "    </tr>\n",
       "    <tr>\n",
       "      <th>2022-01-25</th>\n",
       "      <td>0.0221</td>\n",
       "      <td>0.019656</td>\n",
       "      <td>0.022610</td>\n",
       "      <td>0.024006</td>\n",
       "      <td>0.026979</td>\n",
       "      <td>-0.004879</td>\n",
       "    </tr>\n",
       "    <tr>\n",
       "      <th>2022-01-26</th>\n",
       "      <td>0.0220</td>\n",
       "      <td>NaN</td>\n",
       "      <td>NaN</td>\n",
       "      <td>NaN</td>\n",
       "      <td>NaN</td>\n",
       "      <td>NaN</td>\n",
       "    </tr>\n",
       "  </tbody>\n",
       "</table>\n",
       "<p>2435 rows × 6 columns</p>\n",
       "</div>"
      ],
      "text/plain": [
       "            股息率市值加权    一年期收益率    三年期收益率    五年期收益率    十年期收益率  沪深300股息溢价\n",
       "时间                                                                    \n",
       "2012-01-30   0.0238  0.027757  0.028858  0.030561  0.034005  -0.010205\n",
       "2012-01-31   0.0237  0.027658  0.028893  0.030502  0.034064  -0.010364\n",
       "2012-02-01   0.0240  0.027829  0.029075  0.031131  0.034318  -0.010318\n",
       "2012-02-02   0.0235  0.027733  0.029059  0.031073  0.034410  -0.010910\n",
       "2012-02-03   0.0234  0.027803  0.029058  0.031113  0.034360  -0.010960\n",
       "...             ...       ...       ...       ...       ...        ...\n",
       "2022-01-20   0.0215  0.020204  0.023038  0.024745  0.027271  -0.005771\n",
       "2022-01-21   0.0217  0.020018  0.022614  0.024295  0.027100  -0.005400\n",
       "2022-01-24   0.0216  0.019502  0.022188  0.023527  0.026751  -0.005151\n",
       "2022-01-25   0.0221  0.019656  0.022610  0.024006  0.026979  -0.004879\n",
       "2022-01-26   0.0220       NaN       NaN       NaN       NaN        NaN\n",
       "\n",
       "[2435 rows x 6 columns]"
      ]
     },
     "execution_count": 19,
     "metadata": {},
     "output_type": "execute_result"
    }
   ],
   "source": [
    "HS300_dividend_ratio = pd.read_csv('沪深300_股息率_市值加权_10年_20220126_090402.csv')[['时间','股息率市值加权']].dropna().set_index('时间')[::-1]\n",
    "Bond10return = pd.read_csv('宏观_中债_收益率_20220126_032810.csv').dropna().set_index('时间')[::-1]\n",
    "\n",
    "HS300_dividend_ratio.index = pd.to_datetime(HS300_dividend_ratio.index)\n",
    "Bond10return.index = pd.to_datetime(Bond10return.index)\n",
    "\n",
    "\n",
    "\n",
    "dividend_premium_rate_df = HS300_dividend_ratio.join(Bond10return)\n",
    "dividend_premium_rate_df['沪深300股息溢价'] = dividend_premium_rate_df['股息率市值加权'] - dividend_premium_rate_df['十年期收益率']\n",
    "# dividend_premium_rate_df=dividend_premium_rate_df.reset_index()\n",
    "dividend_premium_rate_df"
   ]
  },
  {
   "cell_type": "code",
   "execution_count": 20,
   "metadata": {},
   "outputs": [
    {
     "data": {
      "text/plain": [
       "<matplotlib.legend.Legend at 0x7fb3fe7bcaf0>"
      ]
     },
     "execution_count": 20,
     "metadata": {},
     "output_type": "execute_result"
    },
    {
     "name": "stderr",
     "output_type": "stream",
     "text": [
      "/Users/sean/Applications/anaconda3/envs/SYenvir/lib/python3.8/site-packages/matplotlib/backends/backend_agg.py:214: RuntimeWarning: Glyph 26102 missing from current font.\n",
      "  font.set_text(s, 0.0, flags=flags)\n",
      "/Users/sean/Applications/anaconda3/envs/SYenvir/lib/python3.8/site-packages/matplotlib/backends/backend_agg.py:214: RuntimeWarning: Glyph 38388 missing from current font.\n",
      "  font.set_text(s, 0.0, flags=flags)\n",
      "/Users/sean/Applications/anaconda3/envs/SYenvir/lib/python3.8/site-packages/matplotlib/backends/backend_agg.py:214: RuntimeWarning: Glyph 32929 missing from current font.\n",
      "  font.set_text(s, 0.0, flags=flags)\n",
      "/Users/sean/Applications/anaconda3/envs/SYenvir/lib/python3.8/site-packages/matplotlib/backends/backend_agg.py:214: RuntimeWarning: Glyph 24687 missing from current font.\n",
      "  font.set_text(s, 0.0, flags=flags)\n",
      "/Users/sean/Applications/anaconda3/envs/SYenvir/lib/python3.8/site-packages/matplotlib/backends/backend_agg.py:214: RuntimeWarning: Glyph 29575 missing from current font.\n",
      "  font.set_text(s, 0.0, flags=flags)\n",
      "/Users/sean/Applications/anaconda3/envs/SYenvir/lib/python3.8/site-packages/matplotlib/backends/backend_agg.py:214: RuntimeWarning: Glyph 24066 missing from current font.\n",
      "  font.set_text(s, 0.0, flags=flags)\n",
      "/Users/sean/Applications/anaconda3/envs/SYenvir/lib/python3.8/site-packages/matplotlib/backends/backend_agg.py:214: RuntimeWarning: Glyph 20540 missing from current font.\n",
      "  font.set_text(s, 0.0, flags=flags)\n",
      "/Users/sean/Applications/anaconda3/envs/SYenvir/lib/python3.8/site-packages/matplotlib/backends/backend_agg.py:214: RuntimeWarning: Glyph 21152 missing from current font.\n",
      "  font.set_text(s, 0.0, flags=flags)\n",
      "/Users/sean/Applications/anaconda3/envs/SYenvir/lib/python3.8/site-packages/matplotlib/backends/backend_agg.py:214: RuntimeWarning: Glyph 26435 missing from current font.\n",
      "  font.set_text(s, 0.0, flags=flags)\n",
      "/Users/sean/Applications/anaconda3/envs/SYenvir/lib/python3.8/site-packages/matplotlib/backends/backend_agg.py:214: RuntimeWarning: Glyph 21313 missing from current font.\n",
      "  font.set_text(s, 0.0, flags=flags)\n",
      "/Users/sean/Applications/anaconda3/envs/SYenvir/lib/python3.8/site-packages/matplotlib/backends/backend_agg.py:214: RuntimeWarning: Glyph 24180 missing from current font.\n",
      "  font.set_text(s, 0.0, flags=flags)\n",
      "/Users/sean/Applications/anaconda3/envs/SYenvir/lib/python3.8/site-packages/matplotlib/backends/backend_agg.py:214: RuntimeWarning: Glyph 26399 missing from current font.\n",
      "  font.set_text(s, 0.0, flags=flags)\n",
      "/Users/sean/Applications/anaconda3/envs/SYenvir/lib/python3.8/site-packages/matplotlib/backends/backend_agg.py:214: RuntimeWarning: Glyph 25910 missing from current font.\n",
      "  font.set_text(s, 0.0, flags=flags)\n",
      "/Users/sean/Applications/anaconda3/envs/SYenvir/lib/python3.8/site-packages/matplotlib/backends/backend_agg.py:214: RuntimeWarning: Glyph 30410 missing from current font.\n",
      "  font.set_text(s, 0.0, flags=flags)\n",
      "/Users/sean/Applications/anaconda3/envs/SYenvir/lib/python3.8/site-packages/matplotlib/backends/backend_agg.py:214: RuntimeWarning: Glyph 27818 missing from current font.\n",
      "  font.set_text(s, 0.0, flags=flags)\n",
      "/Users/sean/Applications/anaconda3/envs/SYenvir/lib/python3.8/site-packages/matplotlib/backends/backend_agg.py:214: RuntimeWarning: Glyph 28145 missing from current font.\n",
      "  font.set_text(s, 0.0, flags=flags)\n",
      "/Users/sean/Applications/anaconda3/envs/SYenvir/lib/python3.8/site-packages/matplotlib/backends/backend_agg.py:214: RuntimeWarning: Glyph 28322 missing from current font.\n",
      "  font.set_text(s, 0.0, flags=flags)\n",
      "/Users/sean/Applications/anaconda3/envs/SYenvir/lib/python3.8/site-packages/matplotlib/backends/backend_agg.py:214: RuntimeWarning: Glyph 20215 missing from current font.\n",
      "  font.set_text(s, 0.0, flags=flags)\n",
      "/Users/sean/Applications/anaconda3/envs/SYenvir/lib/python3.8/site-packages/matplotlib/backends/backend_agg.py:183: RuntimeWarning: Glyph 26102 missing from current font.\n",
      "  font.set_text(s, 0, flags=flags)\n",
      "/Users/sean/Applications/anaconda3/envs/SYenvir/lib/python3.8/site-packages/matplotlib/backends/backend_agg.py:183: RuntimeWarning: Glyph 38388 missing from current font.\n",
      "  font.set_text(s, 0, flags=flags)\n",
      "/Users/sean/Applications/anaconda3/envs/SYenvir/lib/python3.8/site-packages/matplotlib/backends/backend_agg.py:183: RuntimeWarning: Glyph 32929 missing from current font.\n",
      "  font.set_text(s, 0, flags=flags)\n",
      "/Users/sean/Applications/anaconda3/envs/SYenvir/lib/python3.8/site-packages/matplotlib/backends/backend_agg.py:183: RuntimeWarning: Glyph 24687 missing from current font.\n",
      "  font.set_text(s, 0, flags=flags)\n",
      "/Users/sean/Applications/anaconda3/envs/SYenvir/lib/python3.8/site-packages/matplotlib/backends/backend_agg.py:183: RuntimeWarning: Glyph 29575 missing from current font.\n",
      "  font.set_text(s, 0, flags=flags)\n",
      "/Users/sean/Applications/anaconda3/envs/SYenvir/lib/python3.8/site-packages/matplotlib/backends/backend_agg.py:183: RuntimeWarning: Glyph 24066 missing from current font.\n",
      "  font.set_text(s, 0, flags=flags)\n",
      "/Users/sean/Applications/anaconda3/envs/SYenvir/lib/python3.8/site-packages/matplotlib/backends/backend_agg.py:183: RuntimeWarning: Glyph 20540 missing from current font.\n",
      "  font.set_text(s, 0, flags=flags)\n",
      "/Users/sean/Applications/anaconda3/envs/SYenvir/lib/python3.8/site-packages/matplotlib/backends/backend_agg.py:183: RuntimeWarning: Glyph 21152 missing from current font.\n",
      "  font.set_text(s, 0, flags=flags)\n",
      "/Users/sean/Applications/anaconda3/envs/SYenvir/lib/python3.8/site-packages/matplotlib/backends/backend_agg.py:183: RuntimeWarning: Glyph 26435 missing from current font.\n",
      "  font.set_text(s, 0, flags=flags)\n",
      "/Users/sean/Applications/anaconda3/envs/SYenvir/lib/python3.8/site-packages/matplotlib/backends/backend_agg.py:183: RuntimeWarning: Glyph 21313 missing from current font.\n",
      "  font.set_text(s, 0, flags=flags)\n",
      "/Users/sean/Applications/anaconda3/envs/SYenvir/lib/python3.8/site-packages/matplotlib/backends/backend_agg.py:183: RuntimeWarning: Glyph 24180 missing from current font.\n",
      "  font.set_text(s, 0, flags=flags)\n",
      "/Users/sean/Applications/anaconda3/envs/SYenvir/lib/python3.8/site-packages/matplotlib/backends/backend_agg.py:183: RuntimeWarning: Glyph 26399 missing from current font.\n",
      "  font.set_text(s, 0, flags=flags)\n",
      "/Users/sean/Applications/anaconda3/envs/SYenvir/lib/python3.8/site-packages/matplotlib/backends/backend_agg.py:183: RuntimeWarning: Glyph 25910 missing from current font.\n",
      "  font.set_text(s, 0, flags=flags)\n",
      "/Users/sean/Applications/anaconda3/envs/SYenvir/lib/python3.8/site-packages/matplotlib/backends/backend_agg.py:183: RuntimeWarning: Glyph 30410 missing from current font.\n",
      "  font.set_text(s, 0, flags=flags)\n",
      "/Users/sean/Applications/anaconda3/envs/SYenvir/lib/python3.8/site-packages/matplotlib/backends/backend_agg.py:183: RuntimeWarning: Glyph 27818 missing from current font.\n",
      "  font.set_text(s, 0, flags=flags)\n",
      "/Users/sean/Applications/anaconda3/envs/SYenvir/lib/python3.8/site-packages/matplotlib/backends/backend_agg.py:183: RuntimeWarning: Glyph 28145 missing from current font.\n",
      "  font.set_text(s, 0, flags=flags)\n",
      "/Users/sean/Applications/anaconda3/envs/SYenvir/lib/python3.8/site-packages/matplotlib/backends/backend_agg.py:183: RuntimeWarning: Glyph 28322 missing from current font.\n",
      "  font.set_text(s, 0, flags=flags)\n",
      "/Users/sean/Applications/anaconda3/envs/SYenvir/lib/python3.8/site-packages/matplotlib/backends/backend_agg.py:183: RuntimeWarning: Glyph 20215 missing from current font.\n",
      "  font.set_text(s, 0, flags=flags)\n"
     ]
    },
    {
     "data": {
      "image/png": "[encoded data removed]",
      "text/plain": [
       "<Figure size 864x288 with 1 Axes>"
      ]
     },
     "metadata": {
      "needs_background": "light"
     },
     "output_type": "display_data"
    }
   ],
   "source": [
    "fig = plt.figure(figsize=(12,4))\n",
    "dividend_premium_rate_df['股息率市值加权'].plot()\n",
    "dividend_premium_rate_df['十年期收益率'].plot()\n",
    "plt.bar(dividend_premium_rate_df.index, dividend_premium_rate_df['沪深300股息溢价'], label='沪深300股息溢价')\n",
    "plt.legend()"
   ]
  },
  {
   "cell_type": "code",
   "execution_count": 15,
   "metadata": {},
   "outputs": [
    {
     "data": {
      "text/plain": [
       "Index(['2012/1/29', '2012/1/30', '2012/1/31', '2012/2/1', '2012/2/2',\n",
       "       '2012/2/3', '2012/2/6', '2012/2/7', '2012/2/8', '2012/2/9',\n",
       "       ...\n",
       "       '2022/1/12', '2022/1/13', '2022/1/14', '2022/1/17', '2022/1/18',\n",
       "       '2022/1/19', '2022/1/20', '2022/1/21', '2022/1/24', '2022/1/25'],\n",
       "      dtype='object', name='时间', length=2503)"
      ]
     },
     "execution_count": 15,
     "metadata": {},
     "output_type": "execute_result"
    }
   ],
   "source": [
    "Bond10return.index"
   ]
  },
  {
   "cell_type": "code",
   "execution_count": 16,
   "metadata": {},
   "outputs": [
    {
     "data": {
      "text/plain": [
       "Index(['2012-01-30', '2012-01-31', '2012-02-01', '2012-02-02', '2012-02-03',\n",
       "       '2012-02-06', '2012-02-07', '2012-02-08', '2012-02-09', '2012-02-10',\n",
       "       ...\n",
       "       '2022-01-13', '2022-01-14', '2022-01-17', '2022-01-18', '2022-01-19',\n",
       "       '2022-01-20', '2022-01-21', '2022-01-24', '2022-01-25', '2022-01-26'],\n",
       "      dtype='object', name='时间', length=2435)"
      ]
     },
     "execution_count": 16,
     "metadata": {},
     "output_type": "execute_result"
    }
   ],
   "source": [
    "HS300_dividend_ratio.index"
   ]
  },
  {
   "cell_type": "code",
   "execution_count": null,
   "metadata": {},
   "outputs": [],
   "source": []
  }
 ],
 "metadata": {
  "interpreter": {
   "hash": "4982a029959826c6b3e48fc77d58c0e786ee5a36b46a8d298c482f9e9c50a52c"
  },
  "kernelspec": {
   "display_name": "Python 3.8.3 64-bit (conda)",
   "language": "python",
   "name": "python3"
  },
  "language_info": {
   "codemirror_mode": {
    "name": "ipython",
    "version": 3
   },
   "file_extension": ".py",
   "mimetype": "text/x-python",
   "name": "python",
   "nbconvert_exporter": "python",
   "pygments_lexer": "ipython3",
   "version": "3.8.3"
  },
  "orig_nbformat": 4
 },
 "nbformat": 4,
 "nbformat_minor": 2
}
