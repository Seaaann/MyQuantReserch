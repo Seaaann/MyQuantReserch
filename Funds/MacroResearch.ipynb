{
 "cells": [
  {
   "cell_type": "code",
   "execution_count": 2,
   "metadata": {},
   "outputs": [],
   "source": [
    "import numpy as np\n",
    "import pandas as pd\n",
    "import matplotlib.pyplot as plt\n",
    "import akshare as ak\n",
    "from datetime import date, timedelta\n",
    "from financial_calculator import *\n",
    "from fundresearch import *\n",
    "import seaborn as sns\n",
    "\n",
    "from fund_tools import *\n",
    "from AIP import *"
   ]
  },
  {
   "cell_type": "code",
   "execution_count": 4,
   "metadata": {},
   "outputs": [
    {
     "name": "stdout",
     "output_type": "stream",
     "text": [
      "Empty DataFrame\n",
      "Columns: [trade_date, pe, pe_ttm, pb, ps, ps_ttm, dv_ratio, dv_ttm, total_mv]\n",
      "Index: []\n"
     ]
    }
   ],
   "source": [
    "stock_a_lg_indicator_df = ak.stock_a_lg_indicator(symbol=\"000300\")\n",
    "print(stock_a_lg_indicator_df)"
   ]
  },
  {
   "cell_type": "code",
   "execution_count": null,
   "metadata": {},
   "outputs": [],
   "source": []
  }
 ],
 "metadata": {
  "interpreter": {
   "hash": "fe059d4c18d58e44917435d8d974ed83db7c48e0b1d6ab38e5edb12aaec84494"
  },
  "kernelspec": {
   "display_name": "Python 3.8.3 64-bit (conda)",
   "language": "python",
   "name": "python3"
  },
  "language_info": {
   "codemirror_mode": {
    "name": "ipython",
    "version": 3
   },
   "file_extension": ".py",
   "mimetype": "text/x-python",
   "name": "python",
   "nbconvert_exporter": "python",
   "pygments_lexer": "ipython3",
   "version": "3.8.3"
  },
  "orig_nbformat": 4
 },
 "nbformat": 4,
 "nbformat_minor": 2
}
