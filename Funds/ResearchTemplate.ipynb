{
 "cells": [
  {
   "cell_type": "code",
   "execution_count": 1,
   "metadata": {},
   "outputs": [],
   "source": [
    "import numpy as np\n",
    "import pandas as pd\n",
    "import matplotlib.pyplot as plt\n",
    "import akshare as ak\n",
    "import datetime\n",
    "from datetime import date, timedelta\n",
    "import seaborn as sns\n",
    "import time\n",
    "import random\n",
    "import itertools\n",
    "\n",
    "from fund_tools import *\n",
    "from AIP import *"
   ]
  },
  {
   "cell_type": "markdown",
   "metadata": {},
   "source": [
    "![jupyter](./framework.png)"
   ]
  },
  {
   "cell_type": "code",
   "execution_count": 2,
   "metadata": {},
   "outputs": [
    {
     "name": "stdout",
     "output_type": "stream",
     "text": [
      "Today: 2022-01-21\n",
      "Start: 2022-01-17\n"
     ]
    }
   ],
   "source": [
    "# Set date variable\n",
    "\n",
    "today = date.today()\n",
    "first_day_of_the_week = today - timedelta(days=today.weekday())\n",
    "# end = start + timedelta(days=6)\n",
    "print(\"Today: \" + str(today))\n",
    "print(\"Start: \" + str(first_day_of_the_week))\n",
    "# print(\"End: \" + str(end))"
   ]
  },
  {
   "cell_type": "code",
   "execution_count": 3,
   "metadata": {},
   "outputs": [
    {
     "name": "stderr",
     "output_type": "stream",
     "text": [
      "100%|██████████| 8/8 [00:02<00:00,  3.19it/s]\n"
     ]
    },
    {
     "data": {
      "text/html": [
       "<div>\n",
       "<style scoped>\n",
       "    .dataframe tbody tr th:only-of-type {\n",
       "        vertical-align: middle;\n",
       "    }\n",
       "\n",
       "    .dataframe tbody tr th {\n",
       "        vertical-align: top;\n",
       "    }\n",
       "\n",
       "    .dataframe thead th {\n",
       "        text-align: right;\n",
       "    }\n",
       "</style>\n",
       "<table border=\"1\" class=\"dataframe\">\n",
       "  <thead>\n",
       "    <tr style=\"text-align: right;\">\n",
       "      <th></th>\n",
       "      <th>代码</th>\n",
       "      <th>名称</th>\n",
       "    </tr>\n",
       "  </thead>\n",
       "  <tbody>\n",
       "    <tr>\n",
       "      <th>0</th>\n",
       "      <td>sh000001</td>\n",
       "      <td>上证指数</td>\n",
       "    </tr>\n",
       "    <tr>\n",
       "      <th>1</th>\n",
       "      <td>sh000002</td>\n",
       "      <td>Ａ股指数</td>\n",
       "    </tr>\n",
       "    <tr>\n",
       "      <th>2</th>\n",
       "      <td>sh000003</td>\n",
       "      <td>Ｂ股指数</td>\n",
       "    </tr>\n",
       "    <tr>\n",
       "      <th>3</th>\n",
       "      <td>sh000004</td>\n",
       "      <td>工业指数</td>\n",
       "    </tr>\n",
       "    <tr>\n",
       "      <th>4</th>\n",
       "      <td>sh000005</td>\n",
       "      <td>商业指数</td>\n",
       "    </tr>\n",
       "    <tr>\n",
       "      <th>...</th>\n",
       "      <td>...</td>\n",
       "      <td>...</td>\n",
       "    </tr>\n",
       "    <tr>\n",
       "      <th>583</th>\n",
       "      <td>sz988006</td>\n",
       "      <td></td>\n",
       "    </tr>\n",
       "    <tr>\n",
       "      <th>584</th>\n",
       "      <td>sz988007</td>\n",
       "      <td></td>\n",
       "    </tr>\n",
       "    <tr>\n",
       "      <th>585</th>\n",
       "      <td>sz988106</td>\n",
       "      <td></td>\n",
       "    </tr>\n",
       "    <tr>\n",
       "      <th>586</th>\n",
       "      <td>sz988107</td>\n",
       "      <td></td>\n",
       "    </tr>\n",
       "    <tr>\n",
       "      <th>587</th>\n",
       "      <td>sz988201</td>\n",
       "      <td></td>\n",
       "    </tr>\n",
       "  </tbody>\n",
       "</table>\n",
       "<p>588 rows × 2 columns</p>\n",
       "</div>"
      ],
      "text/plain": [
       "           代码    名称\n",
       "0    sh000001  上证指数\n",
       "1    sh000002  Ａ股指数\n",
       "2    sh000003  Ｂ股指数\n",
       "3    sh000004  工业指数\n",
       "4    sh000005  商业指数\n",
       "..        ...   ...\n",
       "583  sz988006      \n",
       "584  sz988007      \n",
       "585  sz988106      \n",
       "586  sz988107      \n",
       "587  sz988201      \n",
       "\n",
       "[588 rows x 2 columns]"
      ]
     },
     "execution_count": 3,
     "metadata": {},
     "output_type": "execute_result"
    }
   ],
   "source": [
    "stock_zh_index_spot_df = ak.stock_zh_index_spot()[['代码','名称']]\n",
    "stock_zh_index_spot_df"
   ]
  },
  {
   "cell_type": "markdown",
   "metadata": {},
   "source": [
    "- 中欧量化驱动基准指数：$创业板指数收益率 \\times 95\\% + 中债综合指数收益率 \\times 5\\%$"
   ]
  },
  {
   "cell_type": "code",
   "execution_count": 13,
   "metadata": {},
   "outputs": [
    {
     "data": {
      "text/html": [
       "<div>\n",
       "<style scoped>\n",
       "    .dataframe tbody tr th:only-of-type {\n",
       "        vertical-align: middle;\n",
       "    }\n",
       "\n",
       "    .dataframe tbody tr th {\n",
       "        vertical-align: top;\n",
       "    }\n",
       "\n",
       "    .dataframe thead th {\n",
       "        text-align: right;\n",
       "    }\n",
       "</style>\n",
       "<table border=\"1\" class=\"dataframe\">\n",
       "  <thead>\n",
       "    <tr style=\"text-align: right;\">\n",
       "      <th></th>\n",
       "      <th>代码</th>\n",
       "      <th>名称</th>\n",
       "    </tr>\n",
       "  </thead>\n",
       "  <tbody>\n",
       "    <tr>\n",
       "      <th>144</th>\n",
       "      <td>sh000300</td>\n",
       "      <td>沪深300</td>\n",
       "    </tr>\n",
       "    <tr>\n",
       "      <th>237</th>\n",
       "      <td>sz399006</td>\n",
       "      <td>创业板指</td>\n",
       "    </tr>\n",
       "    <tr>\n",
       "      <th>299</th>\n",
       "      <td>sz399300</td>\n",
       "      <td>沪深300</td>\n",
       "    </tr>\n",
       "  </tbody>\n",
       "</table>\n",
       "</div>"
      ],
      "text/plain": [
       "           代码     名称\n",
       "144  sh000300  沪深300\n",
       "237  sz399006   创业板指\n",
       "299  sz399300  沪深300"
      ]
     },
     "execution_count": 13,
     "metadata": {},
     "output_type": "execute_result"
    }
   ],
   "source": [
    "stock_zh_index_spot_df[(stock_zh_index_spot_df['名称'] == '沪深300')|(stock_zh_index_spot_df['名称'] == '创业板指')]"
   ]
  },
  {
   "cell_type": "code",
   "execution_count": 111,
   "metadata": {},
   "outputs": [
    {
     "data": {
      "text/plain": [
       "'沪深300'"
      ]
     },
     "execution_count": 111,
     "metadata": {},
     "output_type": "execute_result"
    }
   ],
   "source": [
    "stock_zh_index_spot_df[stock_zh_index_spot_df['代码'] == 'sh000300']['名称'].values[0]"
   ]
  },
  {
   "cell_type": "code",
   "execution_count": 27,
   "metadata": {},
   "outputs": [],
   "source": [
    "start_date = pd.to_datetime('2018-05-16')\n",
    "end_date = pd.to_datetime(date.today())\n",
    "\n",
    "HS300_index = ak.stock_zh_index_daily(symbol=\"sh000300\")[['date', 'close']]\n",
    "CY_index = ak.stock_zh_index_daily(symbol=\"sz399006\")[['date', 'close']]\n",
    "\n",
    "fund_value = get_fund_net_worth('001980', start_date=start_date, end_date=end_date, fund_category='open')\n"
   ]
  },
  {
   "cell_type": "code",
   "execution_count": 65,
   "metadata": {},
   "outputs": [],
   "source": [
    "fund_value = fund_value.set_index('净值日期')"
   ]
  },
  {
   "cell_type": "code",
   "execution_count": 67,
   "metadata": {},
   "outputs": [
    {
     "data": {
      "text/html": [
       "<div>\n",
       "<style scoped>\n",
       "    .dataframe tbody tr th:only-of-type {\n",
       "        vertical-align: middle;\n",
       "    }\n",
       "\n",
       "    .dataframe tbody tr th {\n",
       "        vertical-align: top;\n",
       "    }\n",
       "\n",
       "    .dataframe thead th {\n",
       "        text-align: right;\n",
       "    }\n",
       "</style>\n",
       "<table border=\"1\" class=\"dataframe\">\n",
       "  <thead>\n",
       "    <tr style=\"text-align: right;\">\n",
       "      <th></th>\n",
       "      <th>单位净值</th>\n",
       "      <th>日增长率</th>\n",
       "      <th>close</th>\n",
       "      <th>net worth</th>\n",
       "    </tr>\n",
       "    <tr>\n",
       "      <th>净值日期</th>\n",
       "      <th></th>\n",
       "      <th></th>\n",
       "      <th></th>\n",
       "      <th></th>\n",
       "    </tr>\n",
       "  </thead>\n",
       "  <tbody>\n",
       "    <tr>\n",
       "      <th>2018-05-16</th>\n",
       "      <td>1.0000</td>\n",
       "      <td>0.00</td>\n",
       "      <td>NaN</td>\n",
       "      <td>NaN</td>\n",
       "    </tr>\n",
       "    <tr>\n",
       "      <th>2018-05-18</th>\n",
       "      <td>1.0002</td>\n",
       "      <td>0.00</td>\n",
       "      <td>1836.754</td>\n",
       "      <td>1.003031</td>\n",
       "    </tr>\n",
       "    <tr>\n",
       "      <th>2018-05-25</th>\n",
       "      <td>1.0003</td>\n",
       "      <td>0.00</td>\n",
       "      <td>1804.549</td>\n",
       "      <td>0.985444</td>\n",
       "    </tr>\n",
       "    <tr>\n",
       "      <th>2018-06-01</th>\n",
       "      <td>0.9999</td>\n",
       "      <td>0.00</td>\n",
       "      <td>1709.548</td>\n",
       "      <td>0.933565</td>\n",
       "    </tr>\n",
       "    <tr>\n",
       "      <th>2018-06-08</th>\n",
       "      <td>1.0008</td>\n",
       "      <td>0.00</td>\n",
       "      <td>1711.522</td>\n",
       "      <td>0.934643</td>\n",
       "    </tr>\n",
       "    <tr>\n",
       "      <th>...</th>\n",
       "      <td>...</td>\n",
       "      <td>...</td>\n",
       "      <td>...</td>\n",
       "      <td>...</td>\n",
       "    </tr>\n",
       "    <tr>\n",
       "      <th>2022-01-17</th>\n",
       "      <td>1.8288</td>\n",
       "      <td>1.50</td>\n",
       "      <td>3170.408</td>\n",
       "      <td>1.731324</td>\n",
       "    </tr>\n",
       "    <tr>\n",
       "      <th>2022-01-18</th>\n",
       "      <td>1.8300</td>\n",
       "      <td>0.07</td>\n",
       "      <td>3144.333</td>\n",
       "      <td>1.717085</td>\n",
       "    </tr>\n",
       "    <tr>\n",
       "      <th>2022-01-19</th>\n",
       "      <td>1.8140</td>\n",
       "      <td>-0.87</td>\n",
       "      <td>3075.977</td>\n",
       "      <td>1.679757</td>\n",
       "    </tr>\n",
       "    <tr>\n",
       "      <th>2022-01-20</th>\n",
       "      <td>1.7867</td>\n",
       "      <td>-1.50</td>\n",
       "      <td>3065.994</td>\n",
       "      <td>1.674305</td>\n",
       "    </tr>\n",
       "    <tr>\n",
       "      <th>2022-01-21</th>\n",
       "      <td>1.7642</td>\n",
       "      <td>-1.26</td>\n",
       "      <td>3034.679</td>\n",
       "      <td>1.657204</td>\n",
       "    </tr>\n",
       "  </tbody>\n",
       "</table>\n",
       "<p>887 rows × 4 columns</p>\n",
       "</div>"
      ],
      "text/plain": [
       "              单位净值  日增长率     close  net worth\n",
       "净值日期                                         \n",
       "2018-05-16  1.0000  0.00       NaN        NaN\n",
       "2018-05-18  1.0002  0.00  1836.754   1.003031\n",
       "2018-05-25  1.0003  0.00  1804.549   0.985444\n",
       "2018-06-01  0.9999  0.00  1709.548   0.933565\n",
       "2018-06-08  1.0008  0.00  1711.522   0.934643\n",
       "...            ...   ...       ...        ...\n",
       "2022-01-17  1.8288  1.50  3170.408   1.731324\n",
       "2022-01-18  1.8300  0.07  3144.333   1.717085\n",
       "2022-01-19  1.8140 -0.87  3075.977   1.679757\n",
       "2022-01-20  1.7867 -1.50  3065.994   1.674305\n",
       "2022-01-21  1.7642 -1.26  3034.679   1.657204\n",
       "\n",
       "[887 rows x 4 columns]"
      ]
     },
     "execution_count": 67,
     "metadata": {},
     "output_type": "execute_result"
    }
   ],
   "source": [
    "fund_value.join(df)"
   ]
  },
  {
   "cell_type": "code",
   "execution_count": 66,
   "metadata": {},
   "outputs": [],
   "source": [
    "df = df.set_index('date')"
   ]
  },
  {
   "cell_type": "code",
   "execution_count": 42,
   "metadata": {},
   "outputs": [],
   "source": [
    "df = CY_index.loc[mask]\n",
    "\n",
    "df['net worth'] = df['close'].values[0]\n",
    "\n",
    "df['net worth'] = df['close']/df['net worth']\n"
   ]
  },
  {
   "cell_type": "code",
   "execution_count": 125,
   "metadata": {},
   "outputs": [],
   "source": [
    "# make a plot with fund net worth and base\n",
    "\n",
    "def fund_vs_benchmark(fund, benchmark_list, start_date, end_date, PLOT=True):\n",
    "\n",
    "    start_date = pd.to_datetime(start_date)\n",
    "    end_date = pd.to_datetime(end_date)\n",
    "    stock_zh_index_spot_df = ak.stock_zh_index_spot()[['代码','名称']]\n",
    "\n",
    "\n",
    "    fund_value = get_fund_net_worth(fund, start_date=start_date, end_date=end_date, fund_category='open').set_index('净值日期')\n",
    "    benchmark_df = pd.DataFrame()\n",
    "    index_list = []\n",
    "    for benchmark in benchmark_list:\n",
    "\n",
    "        benchmark_index = ak.stock_zh_index_daily(symbol=benchmark)[['date', 'close']]\n",
    "        benchmark_index = benchmark_index.loc[(benchmark_index['date'] >= start_date) & (benchmark_index['date'] <= end_date)]\n",
    "        benchmark_index[benchmark] = benchmark_index['close'].values[0]\n",
    "        benchmark_index[benchmark] = benchmark_index['close']/benchmark_index[benchmark]\n",
    "        benchmark_index = benchmark_index.set_index('date')\n",
    "        benchmark_df = pd.concat([benchmark_df, benchmark_index], axis=1)\n",
    "\n",
    "        index_list.append(stock_zh_index_spot_df[stock_zh_index_spot_df['代码'] == benchmark]['名称'].values[0])\n",
    "    fund_value = fund_value.join(benchmark_df[benchmark_list])\n",
    "    \n",
    "    if PLOT:\n",
    "        fig = plt.figure(figsize=(12,8))\n",
    "\n",
    "        for i in range(len(index_list)):\n",
    "            plt.plot(fund_value[benchmark_list[i]], label=index_list[i])\n",
    "        plt.plot(fund_value['单位净值'], label='基金净值')\n",
    "        plt.legend()\n",
    "        plt.title('基金累计收益率与基准指数收益对比')\n",
    "\n",
    "    return fund_value\n"
   ]
  },
  {
   "cell_type": "code",
   "execution_count": 126,
   "metadata": {},
   "outputs": [
    {
     "name": "stderr",
     "output_type": "stream",
     "text": [
      "100%|██████████| 8/8 [00:03<00:00,  2.36it/s]\n"
     ]
    },
    {
     "data": {
      "text/html": [
       "<div>\n",
       "<style scoped>\n",
       "    .dataframe tbody tr th:only-of-type {\n",
       "        vertical-align: middle;\n",
       "    }\n",
       "\n",
       "    .dataframe tbody tr th {\n",
       "        vertical-align: top;\n",
       "    }\n",
       "\n",
       "    .dataframe thead th {\n",
       "        text-align: right;\n",
       "    }\n",
       "</style>\n",
       "<table border=\"1\" class=\"dataframe\">\n",
       "  <thead>\n",
       "    <tr style=\"text-align: right;\">\n",
       "      <th></th>\n",
       "      <th>单位净值</th>\n",
       "      <th>日增长率</th>\n",
       "      <th>sh000300</th>\n",
       "      <th>sz399006</th>\n",
       "    </tr>\n",
       "    <tr>\n",
       "      <th>净值日期</th>\n",
       "      <th></th>\n",
       "      <th></th>\n",
       "      <th></th>\n",
       "      <th></th>\n",
       "    </tr>\n",
       "  </thead>\n",
       "  <tbody>\n",
       "    <tr>\n",
       "      <th>2018-05-16</th>\n",
       "      <td>1.0000</td>\n",
       "      <td>0.00</td>\n",
       "      <td>1.000000</td>\n",
       "      <td>1.000000</td>\n",
       "    </tr>\n",
       "    <tr>\n",
       "      <th>2018-05-18</th>\n",
       "      <td>1.0002</td>\n",
       "      <td>0.00</td>\n",
       "      <td>1.002625</td>\n",
       "      <td>0.994628</td>\n",
       "    </tr>\n",
       "    <tr>\n",
       "      <th>2018-05-25</th>\n",
       "      <td>1.0003</td>\n",
       "      <td>0.00</td>\n",
       "      <td>0.980388</td>\n",
       "      <td>0.977188</td>\n",
       "    </tr>\n",
       "    <tr>\n",
       "      <th>2018-06-01</th>\n",
       "      <td>0.9999</td>\n",
       "      <td>0.00</td>\n",
       "      <td>0.968595</td>\n",
       "      <td>0.925744</td>\n",
       "    </tr>\n",
       "    <tr>\n",
       "      <th>2018-06-08</th>\n",
       "      <td>1.0008</td>\n",
       "      <td>0.00</td>\n",
       "      <td>0.970914</td>\n",
       "      <td>0.926813</td>\n",
       "    </tr>\n",
       "    <tr>\n",
       "      <th>...</th>\n",
       "      <td>...</td>\n",
       "      <td>...</td>\n",
       "      <td>...</td>\n",
       "      <td>...</td>\n",
       "    </tr>\n",
       "    <tr>\n",
       "      <th>2022-01-17</th>\n",
       "      <td>1.8288</td>\n",
       "      <td>1.50</td>\n",
       "      <td>1.224625</td>\n",
       "      <td>1.716820</td>\n",
       "    </tr>\n",
       "    <tr>\n",
       "      <th>2022-01-18</th>\n",
       "      <td>1.8300</td>\n",
       "      <td>0.07</td>\n",
       "      <td>1.236460</td>\n",
       "      <td>1.702700</td>\n",
       "    </tr>\n",
       "    <tr>\n",
       "      <th>2022-01-19</th>\n",
       "      <td>1.8140</td>\n",
       "      <td>-0.87</td>\n",
       "      <td>1.227991</td>\n",
       "      <td>1.665684</td>\n",
       "    </tr>\n",
       "    <tr>\n",
       "      <th>2022-01-20</th>\n",
       "      <td>1.7867</td>\n",
       "      <td>-1.50</td>\n",
       "      <td>1.239071</td>\n",
       "      <td>1.660278</td>\n",
       "    </tr>\n",
       "    <tr>\n",
       "      <th>2022-01-21</th>\n",
       "      <td>1.7642</td>\n",
       "      <td>-1.26</td>\n",
       "      <td>1.227718</td>\n",
       "      <td>1.643321</td>\n",
       "    </tr>\n",
       "  </tbody>\n",
       "</table>\n",
       "<p>887 rows × 4 columns</p>\n",
       "</div>"
      ],
      "text/plain": [
       "              单位净值  日增长率  sh000300  sz399006\n",
       "净值日期                                        \n",
       "2018-05-16  1.0000  0.00  1.000000  1.000000\n",
       "2018-05-18  1.0002  0.00  1.002625  0.994628\n",
       "2018-05-25  1.0003  0.00  0.980388  0.977188\n",
       "2018-06-01  0.9999  0.00  0.968595  0.925744\n",
       "2018-06-08  1.0008  0.00  0.970914  0.926813\n",
       "...            ...   ...       ...       ...\n",
       "2022-01-17  1.8288  1.50  1.224625  1.716820\n",
       "2022-01-18  1.8300  0.07  1.236460  1.702700\n",
       "2022-01-19  1.8140 -0.87  1.227991  1.665684\n",
       "2022-01-20  1.7867 -1.50  1.239071  1.660278\n",
       "2022-01-21  1.7642 -1.26  1.227718  1.643321\n",
       "\n",
       "[887 rows x 4 columns]"
      ]
     },
     "execution_count": 126,
     "metadata": {},
     "output_type": "execute_result"
    },
    {
     "data": {
      "image/png": "[encoded data removed]",
      "text/plain": [
       "<Figure size 864x576 with 1 Axes>"
      ]
     },
     "metadata": {
      "needs_background": "light"
     },
     "output_type": "display_data"
    }
   ],
   "source": [
    "fund_vs_benchmark('001980', ['sh000300', 'sz399006'], '2018-05-16', end_date)"
   ]
  },
  {
   "cell_type": "code",
   "execution_count": 117,
   "metadata": {},
   "outputs": [],
   "source": [
    "l = ['1','2']\n",
    "l.append('3')"
   ]
  },
  {
   "cell_type": "code",
   "execution_count": 118,
   "metadata": {},
   "outputs": [
    {
     "data": {
      "text/plain": [
       "['1', '2', '3']"
      ]
     },
     "execution_count": 118,
     "metadata": {},
     "output_type": "execute_result"
    }
   ],
   "source": [
    "l"
   ]
  },
  {
   "cell_type": "code",
   "execution_count": null,
   "metadata": {},
   "outputs": [],
   "source": []
  }
 ],
 "metadata": {
  "interpreter": {
   "hash": "fe059d4c18d58e44917435d8d974ed83db7c48e0b1d6ab38e5edb12aaec84494"
  },
  "kernelspec": {
   "display_name": "Python 3.8.3 64-bit (conda)",
   "language": "python",
   "name": "python3"
  },
  "language_info": {
   "codemirror_mode": {
    "name": "ipython",
    "version": 3
   },
   "file_extension": ".py",
   "mimetype": "text/x-python",
   "name": "python",
   "nbconvert_exporter": "python",
   "pygments_lexer": "ipython3",
   "version": "3.8.3"
  },
  "orig_nbformat": 4
 },
 "nbformat": 4,
 "nbformat_minor": 2
}
